{
 "cells": [
  {
   "cell_type": "code",
   "execution_count": 1,
   "metadata": {},
   "outputs": [],
   "source": [
    "import utils\n",
    "import numpy as np"
   ]
  },
  {
   "cell_type": "code",
   "execution_count": 2,
   "metadata": {},
   "outputs": [],
   "source": [
    "def region_growing(im: np.ndarray, seed_points: list, T: int) -> np.ndarray:\n",
    "    \"\"\"\n",
    "        A region growing algorithm that segments an image into 1 or 0 (True or False).\n",
    "        Finds candidate pixels with a Moore-neighborhood (8-connectedness). \n",
    "        Uses pixel intensity thresholding with the threshold T as the homogeneity criteria.\n",
    "        The function takes in a grayscale image and outputs a boolean image\n",
    "\n",
    "        args:\n",
    "            im: np.ndarray of shape (H, W) in the range [0, 255] (dtype=np.uint8)\n",
    "            seed_points: list of list containing seed points (row, col). Ex:\n",
    "                [[row1, col1], [row2, col2], ...]\n",
    "            T: integer value defining the threshold to used for the homogeneity criteria.\n",
    "        return:\n",
    "            (np.ndarray) of shape (H, W). dtype=np.bool\n",
    "    \"\"\"\n",
    "    ### START YOUR CODE HERE ### (You can change anything inside this block)\n",
    "    # You can also define other helper functions\n",
    "    segmented = np.zeros_like(im).astype(bool)\n",
    "    im = im.astype(float)\n",
    "    for row, col in seed_points:\n",
    "        segmented[row, col] = True\n",
    "        list_neighboors = [(row + 1, col),\n",
    "                           (row - 1, col),\n",
    "                           (row, col + 1),\n",
    "                           (row, col - 1),\n",
    "                           (row + 1, col + 1),\n",
    "                           (row + 1, col - 1),\n",
    "                           (row - 1, col + 1),\n",
    "                           (row - 1, col - 1)]\n",
    "        # print(list_neighboors)\n",
    "\n",
    "        while list_neighboors:\n",
    "            if abs(im[list_neighboors[0]] - im[row, col]) < T and not (segmented[list_neighboors[0]]):\n",
    "                segmented[list_neighboors[0]] = True\n",
    "                # print(list_neighboors[1][0])\n",
    "                new_neighboors = [(list_neighboors[0][0] + 1, list_neighboors[0][1]),\n",
    "                                  (list_neighboors[0][0] - 1, list_neighboors[0][1]),\n",
    "                                  (list_neighboors[0][0], list_neighboors[0][1] + 1),\n",
    "                                  (list_neighboors[0][0], list_neighboors[0][1] - 1),\n",
    "                                  (list_neighboors[0][0] + 1, list_neighboors[0][1] + 1),\n",
    "                                  (list_neighboors[0][0] + 1, list_neighboors[0][1] - 1),\n",
    "                                  (list_neighboors[0][0] - 1, list_neighboors[0][1] + 1),\n",
    "                                  (list_neighboors[0][0] - 1, list_neighboors[0][1] - 1)]\n",
    "                list_neighboors.extend(new_neighboors)\n",
    "            list_neighboors.pop(0)\n",
    "\n",
    "    return segmented\n",
    "    ### END YOUR CODE HERE ###"
   ]
  },
  {
   "cell_type": "code",
   "execution_count": 5,
   "metadata": {},
   "outputs": [
    {
     "name": "stdout",
     "output_type": "stream",
     "text": [
      "Reading image: images/defective-weld.png\nSaving image to: image_processed/defective-weld-segmented.png\n"
     ]
    },
    {
     "name": "stderr",
     "output_type": "stream",
     "text": [
      "/Users/nicolo/opt/anaconda3/envs/tdt4195/lib/python3.7/site-packages/ipykernel_launcher.py:16: DeprecationWarning: `np.bool` is a deprecated alias for the builtin `bool`. To silence this warning, use `bool` by itself. Doing this will not modify any behavior and is safe. If you specifically wanted the numpy scalar type, use `np.bool_` here.\nDeprecated in NumPy 1.20; for more details and guidance: https://numpy.org/devdocs/release/1.20.0-notes.html#deprecations\n  app.launch_new_instance()\n"
     ]
    }
   ],
   "source": [
    "if __name__ == \"__main__\":\n",
    "    # DO NOT CHANGE\n",
    "    im = utils.read_image(\"defective-weld.png\")\n",
    "\n",
    "    seed_points = [ # (row, column)\n",
    "        [254, 138], # Seed point 1\n",
    "        [253, 296], # Seed point 2\n",
    "        [233, 436], # Seed point 3\n",
    "        [232, 417], # Seed point 4\n",
    "    ]\n",
    "    intensity_threshold = 50\n",
    "    segmented_image = region_growing(im, seed_points, intensity_threshold)\n",
    "\n",
    "    assert im.shape == segmented_image.shape, \"Expected image shape ({}) to be same as thresholded image shape ({})\".format(\n",
    "        im.shape, segmented_image.shape)\n",
    "    assert segmented_image.dtype == np.bool, \"Expected thresholded image dtype to be np.bool. Was: {}\".format(\n",
    "            segmented_image.dtype)\n",
    "\n",
    "    segmented_image = utils.to_uint8(segmented_image)\n",
    "    utils.save_im(\"defective-weld-segmented.png\", segmented_image)"
   ]
  },
  {
   "cell_type": "code",
   "execution_count": null,
   "metadata": {},
   "outputs": [],
   "source": []
  }
 ],
 "metadata": {},
 "nbformat": 4,
 "nbformat_minor": 5
}
