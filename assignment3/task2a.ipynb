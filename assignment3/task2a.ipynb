{
 "cells": [
  {
   "cell_type": "code",
   "execution_count": 3,
   "metadata": {},
   "outputs": [],
   "source": [
    "import numpy as np\n",
    "import skimage\n",
    "import assignment3.utils as utils\n",
    "import pathlib"
   ]
  },
  {
   "cell_type": "code",
   "execution_count": 90,
   "metadata": {},
   "outputs": [],
   "source": [
    "def otsu_thresholding(im: np.ndarray) -> int:\n",
    "    \"\"\"\n",
    "        Otsu's thresholding algorithm that segments an image into 1 or 0 (True or False)\n",
    "        The function takes in a grayscale image and outputs a boolean image\n",
    "\n",
    "        args:\n",
    "            im: np.ndarray of shape (H, W) in the range [0, 255] (dtype=np.uint8)\n",
    "        return:\n",
    "            (int) the computed thresholding value\n",
    "    \"\"\"\n",
    "    assert im.dtype == np.uint8\n",
    "    ### START YOUR CODE HERE ### (You can change anything inside this block) \n",
    "    # You can also define other helper functions\n",
    "    # Compute normalized histogram\n",
    "    histo = np.bincount(np.reshape(im,im.shape[0]*im.shape[1]), minlength=256)\n",
    "    histo = histo/(im.shape[0]*im.shape[1])\n",
    "    \n",
    "    # Cumulative sum\n",
    "    cum_sum = np.cumsum(histo)\n",
    "    # Cumulative mean\n",
    "    cum_mean = np.empty(256) \n",
    "    cum_mean[0] = 0.0\n",
    "    for i in range(1,256):\n",
    "        cum_mean[i] = cum_mean[i-1] + i * histo[i]\n",
    "    \n",
    "    # Total mean\n",
    "    glob_mean = cum_mean[255]\n",
    "    \n",
    "    # Betewwn classes variance\n",
    "    sigma_b = np.square(glob_mean*cum_sum - cum_mean)/(cum_sum*(1-cum_sum))\n",
    "    \n",
    "    sigma_b[np.isnan(sigma_b)] = 0.\n",
    "    \n",
    "    max_sigma = np.amax(sigma_b)\n",
    "    \n",
    "    # The values that has the highest sigma are averaged\n",
    "    threshold = round(np.mean(np.where(sigma_b == max_sigma)))\n",
    "    \n",
    "    return threshold\n",
    "    ### END YOUR CODE HERE ###"
   ]
  },
  {
   "cell_type": "code",
   "execution_count": 91,
   "metadata": {},
   "outputs": [
    {
     "name": "stdout",
     "output_type": "stream",
     "text": [
      "Reading image: images/thumbprint.png\nFound optimal threshold: 153\nSaving image to: image_processed/thumbprint-segmented.png\n"
     ]
    },
    {
     "name": "stderr",
     "output_type": "stream",
     "text": [
      "/Users/nicolo/opt/anaconda3/envs/tdt4195/lib/python3.7/site-packages/ipykernel_launcher.py:28: RuntimeWarning: invalid value encountered in true_divide\n/Users/nicolo/opt/anaconda3/envs/tdt4195/lib/python3.7/site-packages/ipykernel_launcher.py:16: DeprecationWarning: `np.bool` is a deprecated alias for the builtin `bool`. To silence this warning, use `bool` by itself. Doing this will not modify any behavior and is safe. If you specifically wanted the numpy scalar type, use `np.bool_` here.\nDeprecated in NumPy 1.20; for more details and guidance: https://numpy.org/devdocs/release/1.20.0-notes.html#deprecations\n  app.launch_new_instance()\n"
     ]
    },
    {
     "name": "stdout",
     "output_type": "stream",
     "text": [
      "Reading image: images/polymercell.png\nFound optimal threshold: 181\nSaving image to: image_processed/polymercell-segmented.png\n"
     ]
    }
   ],
   "source": [
    "if __name__ == \"__main__\":\n",
    "    # DO NOT CHANGE\n",
    "    impaths_to_segment = [\n",
    "        pathlib.Path(\"thumbprint.png\"),\n",
    "        pathlib.Path(\"polymercell.png\")\n",
    "    ]\n",
    "    for impath in impaths_to_segment:\n",
    "        im = utils.read_image(impath)\n",
    "        threshold = otsu_thresholding(im)\n",
    "        print(\"Found optimal threshold:\", threshold)\n",
    "\n",
    "        # Segment the image by threshold\n",
    "        segmented_image = (im >= threshold)\n",
    "        assert im.shape == segmented_image.shape, \"Expected image shape ({}) to be same as thresholded image shape ({})\".format(\n",
    "                im.shape, segmented_image.shape)\n",
    "        assert segmented_image.dtype == np.bool, \"Expected thresholded image dtype to be np.bool. Was: {}\".format(\n",
    "                segmented_image.dtype)\n",
    "\n",
    "        segmented_image = utils.to_uint8(segmented_image)\n",
    "\n",
    "        save_path = \"{}-segmented.png\".format(impath.stem)\n",
    "        utils.save_im(save_path, segmented_image)"
   ]
  },
  {
   "cell_type": "code",
   "execution_count": 90,
   "metadata": {},
   "outputs": [],
   "source": []
  },
  {
   "cell_type": "code",
   "execution_count": null,
   "metadata": {},
   "outputs": [],
   "source": []
  }
 ],
 "metadata": {},
 "nbformat": 4,
 "nbformat_minor": 5
}
