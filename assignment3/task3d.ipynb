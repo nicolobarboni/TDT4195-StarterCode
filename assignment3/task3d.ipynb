{
 "cells": [
  {
   "cell_type": "code",
   "execution_count": 1,
   "metadata": {},
   "outputs": [],
   "source": [
    "import utils\n",
    "import skimage\n",
    "import skimage.morphology\n",
    "import numpy as np"
   ]
  },
  {
   "cell_type": "code",
   "execution_count": 8,
   "metadata": {},
   "outputs": [],
   "source": [
    "def fill_holes(im: np.ndarray, starting_points: list, num_iterations: int) -> np.ndarray:\n",
    "    \"\"\"\n",
    "        A function that takes a binary image (im),  and a set of points \n",
    "        indicating position of holes, and fills the holes.\n",
    "\n",
    "        args:\n",
    "            im: np.ndarray of shape (H, W) with boolean values (dtype=np.bool)\n",
    "            starting_points: list of list containing starting points (row, col). Ex:\n",
    "                [[row1, col1], [row2, col2], ...]\n",
    "            num_iterations: integer defining the number of iterations to apply the \n",
    "                            hole filling algorithm\n",
    "        return:\n",
    "            (np.ndarray) of shape (H, W). dtype=np.bool\n",
    "    \"\"\"\n",
    "    ### START YOUR CODE HERE ### (You can change anything inside this block)\n",
    "    # You can also define other helper functions\n",
    "    structuring_element = np.array([\n",
    "        [1, 1, 1],\n",
    "        [1, 1, 1],\n",
    "        [1, 1, 1]\n",
    "    ], dtype=bool)\n",
    "    result = np.zeros(im.shape, dtype=bool)\n",
    "    for row, col in starting_points:\n",
    "        result[row,col] = True\n",
    "        for k in range(1, num_iterations+1):\n",
    "            result = skimage.morphology.binary_dilation(result, structuring_element) & np.invert(im)\n",
    "    return result | im\n",
    "    ### END YOUR CODE HERE ###"
   ]
  },
  {
   "cell_type": "code",
   "execution_count": 9,
   "metadata": {},
   "outputs": [
    {
     "name": "stdout",
     "output_type": "stream",
     "text": [
      "Reading image: images/balls-with-reflections.png\n"
     ]
    },
    {
     "name": "stdout",
     "output_type": "stream",
     "text": [
      "Saving image to: image_processed/balls-with-reflections-filled.png\n"
     ]
    },
    {
     "name": "stderr",
     "output_type": "stream",
     "text": [
      "/Users/nicolo/opt/anaconda3/envs/tdt4195/lib/python3.7/site-packages/ipykernel_launcher.py:28: DeprecationWarning: `np.bool` is a deprecated alias for the builtin `bool`. To silence this warning, use `bool` by itself. Doing this will not modify any behavior and is safe. If you specifically wanted the numpy scalar type, use `np.bool_` here.\nDeprecated in NumPy 1.20; for more details and guidance: https://numpy.org/devdocs/release/1.20.0-notes.html#deprecations\n"
     ]
    }
   ],
   "source": [
    "if __name__ == \"__main__\":\n",
    "    im = utils.read_image(\"balls-with-reflections.png\")\n",
    "    binary_image = im != 0\n",
    "    starting_points = [ # (row, column)\n",
    "        [51, 64],\n",
    "        [44, 180],\n",
    "        [35, 365],\n",
    "        [156, 94],\n",
    "        [141, 264],\n",
    "        [138, 467],\n",
    "        [198, 180],\n",
    "        [229, 413],\n",
    "        [294, 103],\n",
    "        [302, 230],\n",
    "        [368, 388],\n",
    "        [352, 489],\n",
    "        [454, 57],\n",
    "        [457, 236],\n",
    "        [469, 400],\n",
    "        [489, 506]\n",
    "    ]\n",
    "    num_iterations = 30\n",
    "\n",
    "    result = fill_holes(binary_image, starting_points, num_iterations)\n",
    "\n",
    "    assert im.shape == result.shape, \"Expected image shape ({}) to be same as resulting image shape ({})\".format(\n",
    "            im.shape, result.shape)\n",
    "    assert result.dtype == np.bool, \"Expected resulting image dtype to be np.bool. Was: {}\".format(\n",
    "            result.dtype)\n",
    "\n",
    "    result = utils.to_uint8(result)\n",
    "    utils.save_im(\"balls-with-reflections-filled.png\", result)"
   ]
  },
  {
   "cell_type": "code",
   "execution_count": null,
   "metadata": {},
   "outputs": [],
   "source": []
  }
 ],
 "metadata": {},
 "nbformat": 4,
 "nbformat_minor": 5
}
